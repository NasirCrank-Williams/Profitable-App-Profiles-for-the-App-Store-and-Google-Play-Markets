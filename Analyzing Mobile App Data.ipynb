{
 "cells": [
  {
   "cell_type": "markdown",
   "metadata": {},
   "source": [
    "# Analyzing Mobile App Data\n",
    "The mobile app market is one of the most profitable sources of revenue for both Google and Apple. More and more consumers are using their phones as their main source to navigating the internet, so as a result, more and more business are discovering that their best chances at retaining consumer interaction will be through the app stores. Our company only builds free apps, and our largest source of revenue comes from in-app ads.\n",
    "\n",
    "The goal of this analysis is to study data from the Google Play and App Store that will help determine what types of apps will attract more users to our company's product. And hopefully, in doing so, will increase the company's overall yearly profits."
   ]
  },
  {
   "cell_type": "markdown",
   "metadata": {},
   "source": [
    "## Explore Apple and Google Datasets"
   ]
  },
  {
   "cell_type": "code",
   "execution_count": 1,
   "metadata": {},
   "outputs": [],
   "source": [
    "import csv"
   ]
  },
  {
   "cell_type": "markdown",
   "metadata": {},
   "source": [
    "Open and save the two datasets"
   ]
  },
  {
   "cell_type": "code",
   "execution_count": 2,
   "metadata": {},
   "outputs": [],
   "source": [
    "apple_data = []\n",
    "google_data = []\n",
    "\n",
    "with open('AppleStore.csv', newline='') as csvfile:\n",
    "    reader = csv.reader(csvfile)\n",
    "    for row in reader:\n",
    "        apple_data.append(row)\n",
    "        \n",
    "with open('googleplaystore.csv', newline='') as csvfile:\n",
    "    reader = csv.reader(csvfile)\n",
    "    for row in reader:\n",
    "        google_data.append(row)"
   ]
  },
  {
   "cell_type": "markdown",
   "metadata": {},
   "source": [
    "Make function that takes a dataset and prints its rows in a readable way"
   ]
  },
  {
   "cell_type": "code",
   "execution_count": 3,
   "metadata": {},
   "outputs": [],
   "source": [
    "def explore_data(dataset, start, end, rows_and_columns=False):\n",
    "    dataset_slice = dataset[start:end]    \n",
    "    for row in dataset_slice:\n",
    "        print(row)\n",
    "        print('\\n') # adds a new (empty) line after each row\n",
    "\n",
    "    if rows_and_columns:\n",
    "        print('Number of rows:', len(dataset))\n",
    "        print('Number of columns:', len(dataset[0]))"
   ]
  },
  {
   "cell_type": "markdown",
   "metadata": {},
   "source": [
    "Explore Apple Data"
   ]
  },
  {
   "cell_type": "code",
   "execution_count": 4,
   "metadata": {},
   "outputs": [
    {
     "name": "stdout",
     "output_type": "stream",
     "text": [
      "Apple Data:\n",
      "\n",
      "['id', 'track_name', 'size_bytes', 'currency', 'price', 'rating_count_tot', 'rating_count_ver', 'user_rating', 'user_rating_ver', 'ver', 'cont_rating', 'prime_genre', 'sup_devices.num', 'ipadSc_urls.num', 'lang.num', 'vpp_lic']\n",
      "\n",
      "\n",
      "['284882215', 'Facebook', '389879808', 'USD', '0.0', '2974676', '212', '3.5', '3.5', '95.0', '4+', 'Social Networking', '37', '1', '29', '1']\n",
      "\n",
      "\n",
      "['389801252', 'Instagram', '113954816', 'USD', '0.0', '2161558', '1289', '4.5', '4.0', '10.23', '12+', 'Photo & Video', '37', '0', '29', '1']\n",
      "\n",
      "\n",
      "['529479190', 'Clash of Clans', '116476928', 'USD', '0.0', '2130805', '579', '4.5', '4.5', '9.24.12', '9+', 'Games', '38', '5', '18', '1']\n",
      "\n",
      "\n",
      "['420009108', 'Temple Run', '65921024', 'USD', '0.0', '1724546', '3842', '4.5', '4.0', '1.6.2', '9+', 'Games', '40', '5', '1', '1']\n",
      "\n",
      "\n",
      "Number of rows: 7198\n",
      "Number of columns: 16\n",
      "\n",
      "Columns: \n",
      "\n",
      "    id\n",
      "    track_name\n",
      "    size_bytes\n",
      "    currency\n",
      "    price\n",
      "    rating_count_tot\n",
      "    rating_count_ver\n",
      "    user_rating\n",
      "    user_rating_ver\n",
      "    ver\n",
      "    cont_rating\n",
      "    prime_genre\n",
      "    sup_devices.num\n",
      "    ipadSc_urls.num\n",
      "    lang.num\n",
      "    vpp_lic\n"
     ]
    }
   ],
   "source": [
    "print('Apple Data:\\n')\n",
    "explore_data(apple_data, 0, 5, True)\n",
    "print('\\nColumns: \\n')\n",
    "for row in apple_data[:1]:\n",
    "    for column in row:\n",
    "        print(f'    {column}')"
   ]
  },
  {
   "cell_type": "markdown",
   "metadata": {},
   "source": [
    "Explore Google Data"
   ]
  },
  {
   "cell_type": "code",
   "execution_count": 5,
   "metadata": {},
   "outputs": [
    {
     "name": "stdout",
     "output_type": "stream",
     "text": [
      "Google Data:\n",
      "\n",
      "['App', 'Category', 'Rating', 'Reviews', 'Size', 'Installs', 'Type', 'Price', 'Content Rating', 'Genres', 'Last Updated', 'Current Ver', 'Android Ver']\n",
      "\n",
      "\n",
      "['Photo Editor & Candy Camera & Grid & ScrapBook', 'ART_AND_DESIGN', '4.1', '159', '19M', '10,000+', 'Free', '0', 'Everyone', 'Art & Design', 'January 7, 2018', '1.0.0', '4.0.3 and up']\n",
      "\n",
      "\n",
      "['Coloring book moana', 'ART_AND_DESIGN', '3.9', '967', '14M', '500,000+', 'Free', '0', 'Everyone', 'Art & Design;Pretend Play', 'January 15, 2018', '2.0.0', '4.0.3 and up']\n",
      "\n",
      "\n",
      "['U Launcher Lite – FREE Live Cool Themes, Hide Apps', 'ART_AND_DESIGN', '4.7', '87510', '8.7M', '5,000,000+', 'Free', '0', 'Everyone', 'Art & Design', 'August 1, 2018', '1.2.4', '4.0.3 and up']\n",
      "\n",
      "\n",
      "['Sketch - Draw & Paint', 'ART_AND_DESIGN', '4.5', '215644', '25M', '50,000,000+', 'Free', '0', 'Teen', 'Art & Design', 'June 8, 2018', 'Varies with device', '4.2 and up']\n",
      "\n",
      "\n",
      "Number of rows: 10842\n",
      "Number of columns: 13\n",
      "\n",
      "Columns: \n",
      "\n",
      "    App\n",
      "    Category\n",
      "    Rating\n",
      "    Reviews\n",
      "    Size\n",
      "    Installs\n",
      "    Type\n",
      "    Price\n",
      "    Content Rating\n",
      "    Genres\n",
      "    Last Updated\n",
      "    Current Ver\n",
      "    Android Ver\n"
     ]
    }
   ],
   "source": [
    "print('Google Data:\\n')\n",
    "explore_data(google_data, 0, 5, True)\n",
    "print('\\nColumns: \\n')\n",
    "for row in google_data[:1]:\n",
    "    for column in row:\n",
    "        print(f'    {column}')"
   ]
  },
  {
   "cell_type": "markdown",
   "metadata": {},
   "source": [
    "## Clean Datasets"
   ]
  },
  {
   "cell_type": "markdown",
   "metadata": {},
   "source": [
    "Clean Google Data\n",
    "\n",
    "* User Found [Error](https://www.kaggle.com/datasets/lava18/google-play-store-apps/discussion/164101) at row 10473. Category is missing."
   ]
  },
  {
   "cell_type": "code",
   "execution_count": 6,
   "metadata": {
    "scrolled": true
   },
   "outputs": [
    {
     "name": "stdout",
     "output_type": "stream",
     "text": [
      "['Life Made WI-Fi Touchscreen Photo Frame', '1.9', '19', '3.0M', '1,000+', 'Free', '0', 'Everyone', '', 'February 11, 2018', '1.0.19', '4.0 and up']\n"
     ]
    }
   ],
   "source": [
    "print(google_data[10473])\n",
    "del google_data[10473]"
   ]
  },
  {
   "cell_type": "markdown",
   "metadata": {},
   "source": [
    "* Get rid of duplicate entries"
   ]
  },
  {
   "cell_type": "markdown",
   "metadata": {},
   "source": [
    "Create a dictionary that holds the app name as the key and the duplicate app entries stored in a list as the value. Print the total number of duplicates and some examples."
   ]
  },
  {
   "cell_type": "code",
   "execution_count": 7,
   "metadata": {},
   "outputs": [
    {
     "name": "stdout",
     "output_type": "stream",
     "text": [
      "total duplicates: 1181\n",
      "\n",
      "Google My Business:\n",
      "\n",
      "['Google My Business', 'BUSINESS', '4.4', '70991', 'Varies with device', '5,000,000+', 'Free', '0', 'Everyone', 'Business', 'July 24, 2018', '2.19.0.204537701', '4.4 and up']\n",
      "\n",
      "['Google My Business', 'BUSINESS', '4.4', '70991', 'Varies with device', '5,000,000+', 'Free', '0', 'Everyone', 'Business', 'July 24, 2018', '2.19.0.204537701', '4.4 and up']\n",
      "\n",
      "Box:\n",
      "\n",
      "['Box', 'BUSINESS', '4.2', '159872', 'Varies with device', '10,000,000+', 'Free', '0', 'Everyone', 'Business', 'July 31, 2018', 'Varies with device', 'Varies with device']\n",
      "\n",
      "['Box', 'BUSINESS', '4.2', '159872', 'Varies with device', '10,000,000+', 'Free', '0', 'Everyone', 'Business', 'July 31, 2018', 'Varies with device', 'Varies with device']\n",
      "\n",
      "Quick PDF Scanner + OCR FREE:\n",
      "\n",
      "['Quick PDF Scanner + OCR FREE', 'BUSINESS', '4.2', '80805', 'Varies with device', '5,000,000+', 'Free', '0', 'Everyone', 'Business', 'February 26, 2018', 'Varies with device', '4.0.3 and up']\n",
      "\n",
      "['Quick PDF Scanner + OCR FREE', 'BUSINESS', '4.2', '80804', 'Varies with device', '5,000,000+', 'Free', '0', 'Everyone', 'Business', 'February 26, 2018', 'Varies with device', '4.0.3 and up']\n",
      "\n"
     ]
    }
   ],
   "source": [
    "duplicate_apps = {}\n",
    "\n",
    "for app in google_data[1:]:\n",
    "    app_name = app[0]\n",
    "    if app_name in duplicate_apps:\n",
    "        value = duplicate_apps[app_name]\n",
    "        value.append(app)\n",
    "        duplicate_apps[app_name] = value\n",
    "    else:\n",
    "        duplicate_apps[app_name] = []\n",
    "        \n",
    "total_duplicates = 0\n",
    "\n",
    "for app_name, apps in duplicate_apps.items():\n",
    "    total_duplicates += len(apps)\n",
    "\n",
    "print(f'total duplicates: {total_duplicates}\\n')\n",
    "\n",
    "examples = 0\n",
    "for key, value in duplicate_apps.items():\n",
    "    if len(value) == 2 and examples < 3:\n",
    "        print(f'{key}:\\n')\n",
    "        for x in value:\n",
    "            print(f'{x}\\n')\n",
    "        examples += 1\n",
    "    elif examples == 3:\n",
    "        break;"
   ]
  },
  {
   "cell_type": "markdown",
   "metadata": {},
   "source": [
    "Rather than removing duplicates randomly, they will instead be removed based upon their most recent entry. The app entry with the highest number in the column of \"Reviews\" will help verify this."
   ]
  },
  {
   "cell_type": "markdown",
   "metadata": {},
   "source": [
    "Create a dictionary that holds the app name as the key and the highest number of reviews in one entry as the value. Make a new list that holds no duplicates and print the length."
   ]
  },
  {
   "cell_type": "code",
   "execution_count": 8,
   "metadata": {},
   "outputs": [
    {
     "name": "stdout",
     "output_type": "stream",
     "text": [
      "Number of rows: 9659\n"
     ]
    }
   ],
   "source": [
    "reviews_max = {}\n",
    "\n",
    "for app in google_data[1:]:\n",
    "    name = app[0]\n",
    "    n_reviews = float(3)\n",
    "    if name in reviews_max and reviews_max[name] < n_reviews:\n",
    "        reviews_max[name] = n_reviews\n",
    "    elif name not in reviews_max:\n",
    "        reviews_max[name] = n_reviews\n",
    "\n",
    "android_clean = []\n",
    "already_added = []\n",
    "\n",
    "for app in google_data[1:]:\n",
    "    name = app[0]\n",
    "    n_reviews = float(3)\n",
    "    if n_reviews == reviews_max[name] and name not in already_added:\n",
    "        android_clean.append(app)\n",
    "        already_added.append(name)\n",
    "        \n",
    "print(f'Number of rows: {len(android_clean)}')"
   ]
  },
  {
   "cell_type": "markdown",
   "metadata": {},
   "source": [
    "Luckily, there aren't any suspected errors in the apple dataset so further data cleaning will not be needed."
   ]
  },
  {
   "cell_type": "markdown",
   "metadata": {},
   "source": [
    "## Filter Datasets"
   ]
  },
  {
   "cell_type": "markdown",
   "metadata": {},
   "source": [
    "Filter non-English apps android apps"
   ]
  },
  {
   "cell_type": "markdown",
   "metadata": {},
   "source": [
    "We only develop English apps at our company, but some apps have non-English names suggesting that those apps haven't been developed for English speaking audiences."
   ]
  },
  {
   "cell_type": "markdown",
   "metadata": {},
   "source": [
    "Create a function that tests if characters in a string are commonly used in English text. If more than three non-English characters are found, then return false. Otherwise, return true. Then, make a new filtered list with only English apps and print the length."
   ]
  },
  {
   "cell_type": "code",
   "execution_count": 9,
   "metadata": {},
   "outputs": [
    {
     "name": "stdout",
     "output_type": "stream",
     "text": [
      "Number of rows: 9619\n"
     ]
    }
   ],
   "source": [
    "def is_english(string):\n",
    "    not_english = 0\n",
    "    for char in string:\n",
    "        if ord(char) > 127 and not_english > 3:\n",
    "            return False\n",
    "        elif ord(char) > 127:\n",
    "            not_english += 1\n",
    "    \n",
    "    return True\n",
    "\n",
    "android_filtered = []\n",
    "\n",
    "for app in android_clean:\n",
    "    name = app[0]\n",
    "    if is_english(name):\n",
    "        android_filtered.append(app)\n",
    "        \n",
    "print(f'Number of rows: {len(android_filtered)}')"
   ]
  },
  {
   "cell_type": "markdown",
   "metadata": {},
   "source": [
    "Because our company only develops free apps, we'll have to isolate only the free apps from both the android and apple dataset."
   ]
  },
  {
   "cell_type": "code",
   "execution_count": 10,
   "metadata": {},
   "outputs": [
    {
     "name": "stdout",
     "output_type": "stream",
     "text": [
      "Free android apps: 8866\n",
      "\n",
      "Free apple apps: 4056\n"
     ]
    }
   ],
   "source": [
    "android_free = []\n",
    "apple_free = []\n",
    "\n",
    "for app in android_filtered:\n",
    "    price = app[6]\n",
    "    if price == 'Free':\n",
    "        android_free.append(app)\n",
    "        \n",
    "for app in apple_data[1:]:\n",
    "    price = app[4]\n",
    "    if price == '0.0':\n",
    "        apple_free.append(app)\n",
    "        \n",
    "print(f'Free android apps: {len(android_free)}\\n')\n",
    "print(f'Free apple apps: {len(apple_free)}')"
   ]
  },
  {
   "cell_type": "markdown",
   "metadata": {},
   "source": [
    "## Analyze Datasets"
   ]
  },
  {
   "cell_type": "markdown",
   "metadata": {},
   "source": [
    "Now that the data has been successfully cleaned and filtered, it's time to start analyzing. As mentioned before, our primary goal is to retain users in our apps. Because we build apps for both the Google and Apple app stores, we need to find profiles that are successful on both markets."
   ]
  },
  {
   "cell_type": "markdown",
   "metadata": {},
   "source": [
    "Let's see what the most common genres are for each market by first building a frequency table."
   ]
  },
  {
   "cell_type": "code",
   "execution_count": 11,
   "metadata": {},
   "outputs": [],
   "source": [
    "def freq_table(dataset, index):\n",
    "    table = {}\n",
    "    for app in dataset:\n",
    "        column_name = app[index]\n",
    "        if column_name in table:\n",
    "            table[column_name] += 1\n",
    "        else:\n",
    "            table[column_name] = 1\n",
    "    \n",
    "    return table\n",
    "\n",
    "def display_table(dataset, index):\n",
    "    table = freq_table(dataset, index)\n",
    "    table_display = []\n",
    "    for key in table:\n",
    "        key_val_as_tuple = (table[key], key)\n",
    "        table_display.append(key_val_as_tuple)\n",
    "\n",
    "    table_sorted = sorted(table_display, reverse = True)\n",
    "    for entry in table_sorted:\n",
    "        print(entry[1], ':', entry[0])"
   ]
  },
  {
   "cell_type": "markdown",
   "metadata": {},
   "source": [
    "Display frequency for Apple genre."
   ]
  },
  {
   "cell_type": "code",
   "execution_count": 12,
   "metadata": {},
   "outputs": [
    {
     "name": "stdout",
     "output_type": "stream",
     "text": [
      "Games : 2257\n",
      "Entertainment : 334\n",
      "Photo & Video : 167\n",
      "Social Networking : 143\n",
      "Education : 132\n",
      "Shopping : 121\n",
      "Utilities : 109\n",
      "Lifestyle : 94\n",
      "Finance : 84\n",
      "Sports : 79\n",
      "Health & Fitness : 76\n",
      "Music : 67\n",
      "Book : 66\n",
      "Productivity : 62\n",
      "News : 58\n",
      "Travel : 56\n",
      "Food & Drink : 43\n",
      "Weather : 31\n",
      "Reference : 20\n",
      "Navigation : 20\n",
      "Business : 20\n",
      "Catalogs : 9\n",
      "Medical : 8\n"
     ]
    }
   ],
   "source": [
    "display_table(apple_free, 11)"
   ]
  },
  {
   "cell_type": "markdown",
   "metadata": {},
   "source": [
    "Display frequency for Google genre."
   ]
  },
  {
   "cell_type": "code",
   "execution_count": 13,
   "metadata": {},
   "outputs": [
    {
     "name": "stdout",
     "output_type": "stream",
     "text": [
      "Tools : 747\n",
      "Entertainment : 538\n",
      "Education : 476\n",
      "Business : 407\n",
      "Lifestyle : 346\n",
      "Productivity : 345\n",
      "Finance : 328\n",
      "Medical : 312\n",
      "Sports : 307\n",
      "Personalization : 294\n",
      "Communication : 287\n",
      "Action : 275\n",
      "Health & Fitness : 273\n",
      "Photography : 261\n",
      "News & Magazines : 248\n",
      "Social : 236\n",
      "Travel & Local : 206\n",
      "Shopping : 199\n",
      "Books & Reference : 191\n",
      "Simulation : 181\n",
      "Dating : 165\n",
      "Arcade : 164\n",
      "Video Players & Editors : 157\n",
      "Casual : 156\n",
      "Maps & Navigation : 125\n",
      "Food & Drink : 110\n",
      "Puzzle : 100\n",
      "Racing : 88\n",
      "Role Playing : 83\n",
      "Libraries & Demo : 83\n",
      "Auto & Vehicles : 82\n",
      "Strategy : 80\n",
      "House & Home : 74\n",
      "Weather : 71\n",
      "Events : 63\n",
      "Adventure : 60\n",
      "Comics : 54\n",
      "Beauty : 53\n",
      "Art & Design : 53\n",
      "Parenting : 44\n",
      "Card : 40\n",
      "Casino : 38\n",
      "Trivia : 37\n",
      "Educational;Education : 35\n",
      "Educational : 33\n",
      "Board : 33\n",
      "Education;Education : 30\n",
      "Word : 23\n",
      "Casual;Pretend Play : 21\n",
      "Music : 18\n",
      "Racing;Action & Adventure : 15\n",
      "Puzzle;Brain Games : 15\n",
      "Entertainment;Music & Video : 15\n",
      "Casual;Brain Games : 12\n",
      "Casual;Action & Adventure : 12\n",
      "Arcade;Action & Adventure : 11\n",
      "Action;Action & Adventure : 9\n",
      "Educational;Pretend Play : 8\n",
      "Board;Brain Games : 8\n",
      "Simulation;Action & Adventure : 7\n",
      "Parenting;Education : 7\n",
      "Entertainment;Brain Games : 7\n",
      "Parenting;Music & Video : 6\n",
      "Educational;Brain Games : 6\n",
      "Casual;Creativity : 6\n",
      "Art & Design;Creativity : 6\n",
      "Education;Pretend Play : 5\n",
      "Role Playing;Pretend Play : 4\n",
      "Education;Creativity : 4\n",
      "Role Playing;Action & Adventure : 3\n",
      "Puzzle;Action & Adventure : 3\n",
      "Entertainment;Creativity : 3\n",
      "Entertainment;Action & Adventure : 3\n",
      "Educational;Creativity : 3\n",
      "Educational;Action & Adventure : 3\n",
      "Education;Music & Video : 3\n",
      "Education;Brain Games : 3\n",
      "Education;Action & Adventure : 3\n",
      "Adventure;Action & Adventure : 3\n",
      "Video Players & Editors;Music & Video : 2\n",
      "Sports;Action & Adventure : 2\n",
      "Simulation;Pretend Play : 2\n",
      "Puzzle;Creativity : 2\n",
      "Music;Music & Video : 2\n",
      "Entertainment;Pretend Play : 2\n",
      "Casual;Education : 2\n",
      "Board;Action & Adventure : 2\n",
      "Video Players & Editors;Creativity : 1\n",
      "Trivia;Education : 1\n",
      "Travel & Local;Action & Adventure : 1\n",
      "Tools;Education : 1\n",
      "Strategy;Education : 1\n",
      "Strategy;Creativity : 1\n",
      "Strategy;Action & Adventure : 1\n",
      "Simulation;Education : 1\n",
      "Role Playing;Brain Games : 1\n",
      "Racing;Pretend Play : 1\n",
      "Puzzle;Education : 1\n",
      "Parenting;Brain Games : 1\n",
      "Music & Audio;Music & Video : 1\n",
      "Lifestyle;Pretend Play : 1\n",
      "Lifestyle;Education : 1\n",
      "Health & Fitness;Education : 1\n",
      "Health & Fitness;Action & Adventure : 1\n",
      "Entertainment;Education : 1\n",
      "Communication;Creativity : 1\n",
      "Comics;Creativity : 1\n",
      "Casual;Music & Video : 1\n",
      "Card;Action & Adventure : 1\n",
      "Books & Reference;Education : 1\n",
      "Art & Design;Pretend Play : 1\n",
      "Art & Design;Action & Adventure : 1\n",
      "Arcade;Pretend Play : 1\n",
      "Adventure;Education : 1\n"
     ]
    }
   ],
   "source": [
    "display_table(android_free, 9)"
   ]
  },
  {
   "cell_type": "markdown",
   "metadata": {},
   "source": [
    "Display frequency for Google category."
   ]
  },
  {
   "cell_type": "code",
   "execution_count": 14,
   "metadata": {},
   "outputs": [
    {
     "name": "stdout",
     "output_type": "stream",
     "text": [
      "FAMILY : 1636\n",
      "GAME : 875\n",
      "TOOLS : 748\n",
      "BUSINESS : 407\n",
      "LIFESTYLE : 347\n",
      "PRODUCTIVITY : 345\n",
      "FINANCE : 328\n",
      "MEDICAL : 312\n",
      "SPORTS : 301\n",
      "PERSONALIZATION : 294\n",
      "COMMUNICATION : 287\n",
      "HEALTH_AND_FITNESS : 273\n",
      "PHOTOGRAPHY : 261\n",
      "NEWS_AND_MAGAZINES : 248\n",
      "SOCIAL : 236\n",
      "TRAVEL_AND_LOCAL : 207\n",
      "SHOPPING : 199\n",
      "BOOKS_AND_REFERENCE : 191\n",
      "DATING : 165\n",
      "VIDEO_PLAYERS : 158\n",
      "MAPS_AND_NAVIGATION : 125\n",
      "EDUCATION : 114\n",
      "FOOD_AND_DRINK : 110\n",
      "ENTERTAINMENT : 100\n",
      "LIBRARIES_AND_DEMO : 83\n",
      "AUTO_AND_VEHICLES : 82\n",
      "HOUSE_AND_HOME : 74\n",
      "WEATHER : 71\n",
      "EVENTS : 63\n",
      "ART_AND_DESIGN : 60\n",
      "PARENTING : 58\n",
      "COMICS : 55\n",
      "BEAUTY : 53\n"
     ]
    }
   ],
   "source": [
    "display_table(android_free, 1)"
   ]
  },
  {
   "cell_type": "markdown",
   "metadata": {},
   "source": [
    "Calculate the average number of user ratings per genre in the Apple app store."
   ]
  },
  {
   "cell_type": "code",
   "execution_count": 15,
   "metadata": {},
   "outputs": [
    {
     "name": "stdout",
     "output_type": "stream",
     "text": [
      "Social Networking: 53078.195804195806\n",
      "\n",
      "Photo & Video: 27249.892215568863\n",
      "\n",
      "Games: 18924.68896765618\n",
      "\n",
      "Music: 56482.02985074627\n",
      "\n",
      "Reference: 67447.9\n",
      "\n",
      "Health & Fitness: 19952.315789473683\n",
      "\n",
      "Weather: 47220.93548387097\n",
      "\n",
      "Utilities: 14010.100917431193\n",
      "\n",
      "Travel: 20216.01785714286\n",
      "\n",
      "Shopping: 18746.677685950413\n",
      "\n",
      "News: 15892.724137931034\n",
      "\n",
      "Navigation: 25972.05\n",
      "\n",
      "Lifestyle: 8978.308510638299\n",
      "\n",
      "Entertainment: 10822.961077844311\n",
      "\n",
      "Food & Drink: 20179.093023255813\n",
      "\n",
      "Sports: 20128.974683544304\n",
      "\n",
      "Book: 8498.333333333334\n",
      "\n",
      "Finance: 13522.261904761905\n",
      "\n",
      "Education: 6266.333333333333\n",
      "\n",
      "Productivity: 19053.887096774193\n",
      "\n",
      "Business: 6367.8\n",
      "\n",
      "Catalogs: 1779.5555555555557\n",
      "\n",
      "Medical: 459.75\n",
      "\n"
     ]
    }
   ],
   "source": [
    "apple_genre = freq_table(apple_free, 11)\n",
    "\n",
    "for genre in apple_genre:\n",
    "    total = 0\n",
    "    len_genre = 0\n",
    "    for app in apple_free:\n",
    "        genre_app = app[11]\n",
    "        if genre_app == genre:\n",
    "            total_user_rating = float(app[5])\n",
    "            total += total_user_rating\n",
    "            len_genre += 1\n",
    "    avg_user_rating = total / len_genre\n",
    "    print(f'{genre}: {avg_user_rating}\\n')"
   ]
  },
  {
   "cell_type": "markdown",
   "metadata": {},
   "source": [
    "While there aren't as many social networking apps as there are gaming and entertainment apps on the Apple app store, social networking apps still have one of the higher average number of user ratings. This might signify that although there are less of these apps, they are still higher in user attainment. Our possible social networking app has a higher chance of attracting a large audience."
   ]
  },
  {
   "cell_type": "code",
   "execution_count": 22,
   "metadata": {},
   "outputs": [
    {
     "name": "stdout",
     "output_type": "stream",
     "text": [
      "ART_AND_DESIGN: 1905351.6666666667\n",
      "AUTO_AND_VEHICLES: 647317.8170731707\n",
      "BEAUTY: 513151.88679245283\n",
      "BOOKS_AND_REFERENCE: 8721959.47643979\n",
      "BUSINESS: 1712290.1474201474\n",
      "COMICS: 817657.2727272727\n",
      "COMMUNICATION: 38456119.167247385\n",
      "DATING: 854028.8303030303\n",
      "EDUCATION: 3082017.543859649\n",
      "ENTERTAINMENT: 21134600.0\n",
      "EVENTS: 253542.22222222222\n",
      "FINANCE: 1387692.475609756\n",
      "FOOD_AND_DRINK: 1924897.7363636363\n",
      "HEALTH_AND_FITNESS: 4188821.9853479853\n",
      "HOUSE_AND_HOME: 1313681.9054054054\n",
      "LIBRARIES_AND_DEMO: 638503.734939759\n",
      "LIFESTYLE: 1433701.5244956773\n",
      "GAME: 15837565.085714286\n",
      "FAMILY: 2690584.773838631\n",
      "MEDICAL: 120616.48717948717\n",
      "SOCIAL: 23253652.127118643\n",
      "SHOPPING: 7036877.311557789\n",
      "PHOTOGRAPHY: 17805627.643678162\n",
      "SPORTS: 3638640.1428571427\n",
      "TRAVEL_AND_LOCAL: 13984077.710144928\n",
      "TOOLS: 10695245.286096256\n",
      "PERSONALIZATION: 5201482.6122448975\n",
      "PRODUCTIVITY: 16787331.344927534\n",
      "PARENTING: 542603.6206896552\n",
      "WEATHER: 5074486.197183099\n",
      "VIDEO_PLAYERS: 24852732.40506329\n",
      "NEWS_AND_MAGAZINES: 9549178.467741935\n",
      "MAPS_AND_NAVIGATION: 4025286.24\n"
     ]
    }
   ],
   "source": [
    "android_category = freq_table(android_free, 1)\n",
    "\n",
    "for category in android_category:\n",
    "    total = 0\n",
    "    len_category = 0\n",
    "    for app in android_free:\n",
    "        category_app = app[1]\n",
    "        if category_app == category:\n",
    "            installs = app[5]\n",
    "            installs = installs.replace('+', '')\n",
    "            installs = installs.replace(',', '')\n",
    "            total += float(installs)\n",
    "            len_category += 1\n",
    "    avg_installs = total / len_category\n",
    "    print(f'{category}: {avg_installs}')"
   ]
  },
  {
   "cell_type": "markdown",
   "metadata": {},
   "source": [
    "The social apps have an average of over 23 million installs on the Google Play store. They are the most popular on both platforms. And their retention rate is much higher than most other apps. The company should try building at least one social networking app as this genre of app offers the greatest reward potential."
   ]
  }
 ],
 "metadata": {
  "kernelspec": {
   "display_name": "Python 3",
   "language": "python",
   "name": "python3"
  },
  "language_info": {
   "codemirror_mode": {
    "name": "ipython",
    "version": 3
   },
   "file_extension": ".py",
   "mimetype": "text/x-python",
   "name": "python",
   "nbconvert_exporter": "python",
   "pygments_lexer": "ipython3",
   "version": "3.8.2"
  }
 },
 "nbformat": 4,
 "nbformat_minor": 2
}
