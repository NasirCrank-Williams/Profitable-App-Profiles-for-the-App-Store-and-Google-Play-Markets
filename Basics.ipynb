{
 "cells": [
  {
   "cell_type": "markdown",
   "metadata": {
    "collapsed": true
   },
   "source": [
    "# Profitable App for the Google and Apple Store\n",
    "Our aim in this analysis is to find the most used apps in both the Google and Apple app stores. The most used apps tend to be the most profitable, and investing in the creation of a certain type of app could yield a higher return on investment."
   ]
  },
  {
   "cell_type": "code",
   "execution_count": 2,
   "metadata": {
    "collapsed": false
   },
   "outputs": [],
   "source": [
    "import csv\n",
    "\n",
    "def get_data(file_name):\n",
    "    with open(file_name) as file:\n",
    "        reader = csv.reader(file)\n",
    "        data = list(reader)\n",
    "        return data\n",
    "\n",
    "apple_data = get_data(\"AppleStore.csv\")\n",
    "google_data = get_data(\"googleplaystore.csv\")"
   ]
  },
  {
   "cell_type": "code",
   "execution_count": 1,
   "metadata": {
    "collapsed": true
   },
   "outputs": [],
   "source": [
    "def explore_data(dataset, start, end, rows_and_columns=False):\n",
    "    dataset_slice = dataset[start:end]    \n",
    "    for row in dataset_slice:\n",
    "        print(row)\n",
    "        print('\\n') # adds a new (empty) line after each row\n",
    "\n",
    "    if rows_and_columns:\n",
    "        print('Number of rows:', len(dataset))\n",
    "        print('Number of columns:', len(dataset[0]))"
   ]
  },
  {
   "cell_type": "markdown",
   "metadata": {},
   "source": [
    "User reported issue with entry 10472 (assuming the header row is not included) https://www.kaggle.com/lava18/google-play-store-apps/discussion/66015 .\n",
    "We'll delete this corrupted entry."
   ]
  },
  {
   "cell_type": "code",
   "execution_count": 3,
   "metadata": {
    "collapsed": true
   },
   "outputs": [],
   "source": [
    "del google_data[10473]"
   ]
  },
  {
   "cell_type": "markdown",
   "metadata": {},
   "source": [
    "Looking further, we can see that the google dataset has duplicate entries. There are 1,181 total duplicates. To show an example, \"8 Ball Pool\" has 6 duplicates of itself."
   ]
  },
  {
   "cell_type": "code",
   "execution_count": 4,
   "metadata": {
    "collapsed": false
   },
   "outputs": [
    {
     "name": "stdout",
     "output_type": "stream",
     "text": [
      "['8 Ball Pool', 'GAME', '4.5', '14198602', '52M', '100,000,000+', 'Free', '0', 'Everyone', 'Sports', 'July 31, 2018', '4.0.0', '4.0.3 and up']\n",
      "\n",
      "\n",
      "['8 Ball Pool', 'GAME', '4.5', '14200344', '52M', '100,000,000+', 'Free', '0', 'Everyone', 'Sports', 'July 31, 2018', '4.0.0', '4.0.3 and up']\n",
      "\n",
      "\n",
      "['8 Ball Pool', 'GAME', '4.5', '14200550', '52M', '100,000,000+', 'Free', '0', 'Everyone', 'Sports', 'July 31, 2018', '4.0.0', '4.0.3 and up']\n",
      "\n",
      "\n",
      "['8 Ball Pool', 'GAME', '4.5', '14201604', '52M', '100,000,000+', 'Free', '0', 'Everyone', 'Sports', 'July 31, 2018', '4.0.0', '4.0.3 and up']\n",
      "\n",
      "\n",
      "['8 Ball Pool', 'GAME', '4.5', '14201891', '52M', '100,000,000+', 'Free', '0', 'Everyone', 'Sports', 'July 31, 2018', '4.0.0', '4.0.3 and up']\n",
      "\n",
      "\n",
      "['8 Ball Pool', 'SPORTS', '4.5', '14184910', '52M', '100,000,000+', 'Free', '0', 'Everyone', 'Sports', 'July 31, 2018', '4.0.0', '4.0.3 and up']\n",
      "\n",
      "\n",
      "Number of duplicates: 1181\n"
     ]
    }
   ],
   "source": [
    "def count_duplicates(data_set):\n",
    "    a_dict = {}\n",
    "    dup_entries = []\n",
    "\n",
    "    for data in data_set:\n",
    "        name = data[0]\n",
    "        \n",
    "        if name in a_dict:\n",
    "            dup_entries.append(data)\n",
    "        else:\n",
    "            a_dict[name] = \"\"\n",
    "            \n",
    "    dup_entries.sort()\n",
    "    for dup in dup_entries[6:12]:\n",
    "        print(dup)\n",
    "        print(\"\\n\")\n",
    "    print(\"Number of duplicates: \" + str(len(dup_entries)))\n",
    "    \n",
    "count_duplicates(google_data)"
   ]
  },
  {
   "cell_type": "markdown",
   "metadata": {},
   "source": [
    "Looking into these duplicates, we can see that some things differ. The most obvious difference being the number of ratings amongst all of the entries for \"8 Ball Pool\". The number of ratings can indicate which entry is the most recent. We should only capture the duplicate with the highest number of ratings and delete the rest."
   ]
  },
  {
   "cell_type": "code",
   "execution_count": 5,
   "metadata": {
    "collapsed": false
   },
   "outputs": [],
   "source": [
    "def remove_google_duplicates():\n",
    "    reviews_max = {}\n",
    "    # create dictionary\n",
    "    # {key=unique_app_name, value=highest_number_of_ratings})\n",
    "    for data in google_data[1:]:\n",
    "        name = data[0]\n",
    "        n_reviews = float(data[3])\n",
    "        \n",
    "        if name in reviews_max and reviews_max[name] < n_reviews:\n",
    "            reviews_max[name] = n_reviews\n",
    "        elif name not in reviews_max:\n",
    "            reviews_max[name] = n_reviews\n",
    "    # android_clean contains non-duplicated data \n",
    "    # already_added contains duplicated data\n",
    "    android_clean = []\n",
    "    already_added = []\n",
    "    \n",
    "    for data in google_data[1:]:\n",
    "        name = data[0]\n",
    "        n_reviews = float(data[3])\n",
    "        \n",
    "        if n_reviews == reviews_max[name] and name not in already_added:\n",
    "            android_clean.append(data)\n",
    "            already_added.append(name)\n",
    "    # returns non-duplicated data    \n",
    "    return android_clean\n",
    "        \n",
    "google_data = remove_google_duplicates()"
   ]
  },
  {
   "cell_type": "markdown",
   "metadata": {},
   "source": [
    "Filter data to obtain English named, free apps."
   ]
  },
  {
   "cell_type": "code",
   "execution_count": 6,
   "metadata": {
    "collapsed": false
   },
   "outputs": [],
   "source": [
    "# check if more than 3 characters fall outside the \n",
    "# ASCII range(0 = 127)\n",
    "# (check if string is non-English)\n",
    "def char_check(string):\n",
    "    not_eng = 0\n",
    "    \n",
    "    for char in string:\n",
    "        if ord(char) > 127:\n",
    "            not_eng += 1\n",
    "            if not_eng == 4:\n",
    "                return False\n",
    "\n",
    "    return True"
   ]
  },
  {
   "cell_type": "code",
   "execution_count": 7,
   "metadata": {
    "collapsed": false
   },
   "outputs": [],
   "source": [
    "def filter_non_eng(data_set):\n",
    "    is_eng = []\n",
    "    \n",
    "    if data_set[0][0].isnumeric():\n",
    "    \n",
    "        for data in data_set:\n",
    "            \n",
    "            if char_check(data[1]):\n",
    "                is_eng.append(data)\n",
    "    else:\n",
    "        \n",
    "        for data in data_set:\n",
    "        \n",
    "            if char_check(data[0]):\n",
    "                is_eng.append(data)\n",
    "            \n",
    "    return is_eng\n",
    "\n",
    "google_data = filter_non_eng(google_data)\n",
    "apple_data = filter_non_eng(apple_data[1:])"
   ]
  },
  {
   "cell_type": "code",
   "execution_count": 8,
   "metadata": {
    "collapsed": false
   },
   "outputs": [],
   "source": [
    "def filter_free(data_set):\n",
    "    is_free = []\n",
    "    \n",
    "    for data in data_set:\n",
    "        \n",
    "        if data[7] == \"0\" or data[4] == \"0.0\":\n",
    "            is_free.append(data)\n",
    "    \n",
    "    return is_free\n",
    "\n",
    "google_data = filter_free(google_data)\n",
    "apple_data = filter_free(apple_data)"
   ]
  },
  {
   "cell_type": "markdown",
   "metadata": {
    "collapsed": true
   },
   "source": [
    "If we were to develop an app using the information obtained from the dataset, the app would have to be alluring to users from the google play store AND the apple store. The validation strategy for an app idea would be comprised of three steps:\n",
    "\n",
    "1. Build a minimal Android version of the app, and add it to Google Play.\n",
    "\n",
    "2. If the app has a good response from users, we develop it further.\n",
    "\n",
    "3. If the app is profitable after six months, we build an iOS version of the app and add it to the Apple Store."
   ]
  },
  {
   "cell_type": "code",
   "execution_count": 9,
   "metadata": {
    "collapsed": false
   },
   "outputs": [],
   "source": [
    "def freq_table(dataset, index):\n",
    "    table = {}\n",
    "    \n",
    "    for data in dataset:\n",
    "        item_at_column = data[index]\n",
    "        \n",
    "        if item_at_column in table:\n",
    "            table[item_at_column] += 1\n",
    "        else:\n",
    "            table[item_at_column] = 1\n",
    "            \n",
    "    for item in table:\n",
    "        table[item] = table[item] / len(dataset) * 100\n",
    "        \n",
    "    return table"
   ]
  },
  {
   "cell_type": "code",
   "execution_count": 10,
   "metadata": {
    "collapsed": false
   },
   "outputs": [],
   "source": [
    "def display_table(dataset, index):\n",
    "    table = freq_table(dataset, index)\n",
    "    table_display = []\n",
    "    for key in table:\n",
    "        key_val_as_tuple = (table[key], key)\n",
    "        table_display.append(key_val_as_tuple)\n",
    "\n",
    "    table_sorted = sorted(table_display, reverse = True)\n",
    "    for entry in table_sorted:\n",
    "        print(entry[1], ':', entry[0])"
   ]
  },
  {
   "cell_type": "code",
   "execution_count": 11,
   "metadata": {
    "collapsed": false
   },
   "outputs": [
    {
     "name": "stdout",
     "output_type": "stream",
     "text": [
      "Games : 58.16263190564867\n",
      "Entertainment : 7.883302296710118\n",
      "Photo & Video : 4.9658597144630665\n",
      "Education : 3.662321539416512\n",
      "Social Networking : 3.2898820608317814\n",
      "Shopping : 2.60707635009311\n",
      "Utilities : 2.5139664804469275\n",
      "Sports : 2.1415270018621975\n",
      "Music : 2.0484171322160147\n",
      "Health & Fitness : 2.0173805090006205\n",
      "Productivity : 1.7380509000620732\n",
      "Lifestyle : 1.5828677839851024\n",
      "News : 1.3345747982619491\n",
      "Travel : 1.2414649286157666\n",
      "Finance : 1.1173184357541899\n",
      "Weather : 0.8690254500310366\n",
      "Food & Drink : 0.8069522036002483\n",
      "Reference : 0.5586592178770949\n",
      "Business : 0.5276225946617008\n",
      "Book : 0.4345127250155183\n",
      "Navigation : 0.186219739292365\n",
      "Medical : 0.186219739292365\n",
      "Catalogs : 0.12414649286157665\n"
     ]
    }
   ],
   "source": [
    "display_table(apple_data, -5)"
   ]
  },
  {
   "cell_type": "code",
   "execution_count": 12,
   "metadata": {
    "collapsed": false
   },
   "outputs": [
    {
     "name": "stdout",
     "output_type": "stream",
     "text": [
      "Tools : 8.449909747292418\n",
      "Entertainment : 6.069494584837545\n",
      "Education : 5.347472924187725\n",
      "Business : 4.591606498194946\n",
      "Productivity : 3.892148014440433\n",
      "Lifestyle : 3.892148014440433\n",
      "Finance : 3.7003610108303246\n",
      "Medical : 3.531137184115524\n",
      "Sports : 3.463447653429603\n",
      "Personalization : 3.3167870036101084\n",
      "Communication : 3.2378158844765346\n",
      "Action : 3.1024368231046933\n",
      "Health & Fitness : 3.0798736462093865\n",
      "Photography : 2.944494584837545\n",
      "News & Magazines : 2.7978339350180503\n",
      "Social : 2.6624548736462095\n",
      "Travel & Local : 2.3240072202166067\n",
      "Shopping : 2.2450361010830324\n",
      "Books & Reference : 2.1435018050541514\n",
      "Simulation : 2.0419675090252705\n",
      "Dating : 1.861462093862816\n",
      "Arcade : 1.8501805054151623\n",
      "Video Players & Editors : 1.7712093862815883\n",
      "Casual : 1.7599277978339352\n",
      "Maps & Navigation : 1.3989169675090252\n",
      "Food & Drink : 1.2409747292418771\n",
      "Puzzle : 1.128158844765343\n",
      "Racing : 0.9927797833935018\n",
      "Role Playing : 0.9363718411552346\n",
      "Libraries & Demo : 0.9363718411552346\n",
      "Auto & Vehicles : 0.9250902527075812\n",
      "Strategy : 0.9138086642599278\n",
      "House & Home : 0.8235559566787004\n",
      "Weather : 0.8009927797833934\n",
      "Events : 0.7107400722021661\n",
      "Adventure : 0.6768953068592057\n",
      "Comics : 0.6092057761732852\n",
      "Beauty : 0.5979241877256317\n",
      "Art & Design : 0.5979241877256317\n",
      "Parenting : 0.4963898916967509\n",
      "Card : 0.45126353790613716\n",
      "Casino : 0.42870036101083037\n",
      "Trivia : 0.41741877256317694\n",
      "Educational;Education : 0.39485559566787\n",
      "Board : 0.3835740072202166\n",
      "Educational : 0.3722924187725632\n",
      "Education;Education : 0.33844765342960287\n",
      "Word : 0.2594765342960289\n",
      "Casual;Pretend Play : 0.236913357400722\n",
      "Music : 0.2030685920577617\n",
      "Racing;Action & Adventure : 0.16922382671480143\n",
      "Puzzle;Brain Games : 0.16922382671480143\n",
      "Entertainment;Music & Video : 0.16922382671480143\n",
      "Casual;Brain Games : 0.13537906137184114\n",
      "Casual;Action & Adventure : 0.13537906137184114\n",
      "Arcade;Action & Adventure : 0.12409747292418773\n",
      "Action;Action & Adventure : 0.10153429602888085\n",
      "Educational;Pretend Play : 0.09025270758122744\n",
      "Simulation;Action & Adventure : 0.078971119133574\n",
      "Parenting;Education : 0.078971119133574\n",
      "Entertainment;Brain Games : 0.078971119133574\n",
      "Board;Brain Games : 0.078971119133574\n",
      "Parenting;Music & Video : 0.06768953068592057\n",
      "Educational;Brain Games : 0.06768953068592057\n",
      "Casual;Creativity : 0.06768953068592057\n",
      "Art & Design;Creativity : 0.06768953068592057\n",
      "Education;Pretend Play : 0.056407942238267145\n",
      "Role Playing;Pretend Play : 0.04512635379061372\n",
      "Education;Creativity : 0.04512635379061372\n",
      "Role Playing;Action & Adventure : 0.033844765342960284\n",
      "Puzzle;Action & Adventure : 0.033844765342960284\n",
      "Entertainment;Creativity : 0.033844765342960284\n",
      "Entertainment;Action & Adventure : 0.033844765342960284\n",
      "Educational;Creativity : 0.033844765342960284\n",
      "Educational;Action & Adventure : 0.033844765342960284\n",
      "Education;Music & Video : 0.033844765342960284\n",
      "Education;Brain Games : 0.033844765342960284\n",
      "Education;Action & Adventure : 0.033844765342960284\n",
      "Adventure;Action & Adventure : 0.033844765342960284\n",
      "Video Players & Editors;Music & Video : 0.02256317689530686\n",
      "Sports;Action & Adventure : 0.02256317689530686\n",
      "Simulation;Pretend Play : 0.02256317689530686\n",
      "Puzzle;Creativity : 0.02256317689530686\n",
      "Music;Music & Video : 0.02256317689530686\n",
      "Entertainment;Pretend Play : 0.02256317689530686\n",
      "Casual;Education : 0.02256317689530686\n",
      "Board;Action & Adventure : 0.02256317689530686\n",
      "Video Players & Editors;Creativity : 0.01128158844765343\n",
      "Trivia;Education : 0.01128158844765343\n",
      "Travel & Local;Action & Adventure : 0.01128158844765343\n",
      "Tools;Education : 0.01128158844765343\n",
      "Strategy;Education : 0.01128158844765343\n",
      "Strategy;Creativity : 0.01128158844765343\n",
      "Strategy;Action & Adventure : 0.01128158844765343\n",
      "Simulation;Education : 0.01128158844765343\n",
      "Role Playing;Brain Games : 0.01128158844765343\n",
      "Racing;Pretend Play : 0.01128158844765343\n",
      "Puzzle;Education : 0.01128158844765343\n",
      "Parenting;Brain Games : 0.01128158844765343\n",
      "Music & Audio;Music & Video : 0.01128158844765343\n",
      "Lifestyle;Pretend Play : 0.01128158844765343\n",
      "Lifestyle;Education : 0.01128158844765343\n",
      "Health & Fitness;Education : 0.01128158844765343\n",
      "Health & Fitness;Action & Adventure : 0.01128158844765343\n",
      "Entertainment;Education : 0.01128158844765343\n",
      "Communication;Creativity : 0.01128158844765343\n",
      "Comics;Creativity : 0.01128158844765343\n",
      "Casual;Music & Video : 0.01128158844765343\n",
      "Card;Action & Adventure : 0.01128158844765343\n",
      "Books & Reference;Education : 0.01128158844765343\n",
      "Art & Design;Pretend Play : 0.01128158844765343\n",
      "Art & Design;Action & Adventure : 0.01128158844765343\n",
      "Arcade;Pretend Play : 0.01128158844765343\n",
      "Adventure;Education : 0.01128158844765343\n"
     ]
    }
   ],
   "source": [
    "display_table(google_data, 9)"
   ]
  },
  {
   "cell_type": "code",
   "execution_count": 13,
   "metadata": {
    "collapsed": false
   },
   "outputs": [
    {
     "name": "stdout",
     "output_type": "stream",
     "text": [
      "FAMILY : 18.907942238267147\n",
      "GAME : 9.724729241877256\n",
      "TOOLS : 8.461191335740072\n",
      "BUSINESS : 4.591606498194946\n",
      "LIFESTYLE : 3.9034296028880866\n",
      "PRODUCTIVITY : 3.892148014440433\n",
      "FINANCE : 3.7003610108303246\n",
      "MEDICAL : 3.531137184115524\n",
      "SPORTS : 3.395758122743682\n",
      "PERSONALIZATION : 3.3167870036101084\n",
      "COMMUNICATION : 3.2378158844765346\n",
      "HEALTH_AND_FITNESS : 3.0798736462093865\n",
      "PHOTOGRAPHY : 2.944494584837545\n",
      "NEWS_AND_MAGAZINES : 2.7978339350180503\n",
      "SOCIAL : 2.6624548736462095\n",
      "TRAVEL_AND_LOCAL : 2.33528880866426\n",
      "SHOPPING : 2.2450361010830324\n",
      "BOOKS_AND_REFERENCE : 2.1435018050541514\n",
      "DATING : 1.861462093862816\n",
      "VIDEO_PLAYERS : 1.7937725631768955\n",
      "MAPS_AND_NAVIGATION : 1.3989169675090252\n",
      "FOOD_AND_DRINK : 1.2409747292418771\n",
      "EDUCATION : 1.1620036101083033\n",
      "ENTERTAINMENT : 0.9589350180505415\n",
      "LIBRARIES_AND_DEMO : 0.9363718411552346\n",
      "AUTO_AND_VEHICLES : 0.9250902527075812\n",
      "HOUSE_AND_HOME : 0.8235559566787004\n",
      "WEATHER : 0.8009927797833934\n",
      "EVENTS : 0.7107400722021661\n",
      "PARENTING : 0.6543321299638989\n",
      "ART_AND_DESIGN : 0.6430505415162455\n",
      "COMICS : 0.6204873646209386\n",
      "BEAUTY : 0.5979241877256317\n"
     ]
    }
   ],
   "source": [
    "display_table(google_data, 1)"
   ]
  },
  {
   "cell_type": "markdown",
   "metadata": {},
   "source": [
    "Let us analyze the average number of user ratings for each app. Analyzing the number of installs would have been better as it's known that not everyone who installs an app also rates it. Number of installs cannot be found in the apple dataset however, and so going over the number of ratings is the next best thing."
   ]
  },
  {
   "cell_type": "code",
   "execution_count": 22,
   "metadata": {
    "collapsed": false
   },
   "outputs": [
    {
     "name": "stdout",
     "output_type": "stream",
     "text": [
      "Genre: Catalogs || Avg. Number of User Ratings: 4004.0\n",
      "\n",
      "Genre: Social Networking || Avg. Number of User Ratings: 71548.34905660378\n",
      "\n",
      "Genre: News || Avg. Number of User Ratings: 21248.023255813954\n",
      "\n",
      "Genre: Shopping || Avg. Number of User Ratings: 26919.690476190477\n",
      "\n",
      "Genre: Health & Fitness || Avg. Number of User Ratings: 23298.015384615384\n",
      "\n",
      "Genre: Navigation || Avg. Number of User Ratings: 86090.33333333333\n",
      "\n",
      "Genre: Music || Avg. Number of User Ratings: 57326.530303030304\n",
      "\n",
      "Genre: Games || Avg. Number of User Ratings: 22788.6696905016\n",
      "\n",
      "Genre: Utilities || Avg. Number of User Ratings: 18684.456790123455\n",
      "\n",
      "Genre: Entertainment || Avg. Number of User Ratings: 14029.830708661417\n",
      "\n",
      "Genre: Book || Avg. Number of User Ratings: 39758.5\n",
      "\n",
      "Genre: Sports || Avg. Number of User Ratings: 23008.898550724636\n",
      "\n",
      "Genre: Reference || Avg. Number of User Ratings: 74942.11111111111\n",
      "\n",
      "Genre: Productivity || Avg. Number of User Ratings: 21028.410714285714\n",
      "\n",
      "Genre: Business || Avg. Number of User Ratings: 7491.117647058823\n",
      "\n",
      "Genre: Travel || Avg. Number of User Ratings: 28243.8\n",
      "\n",
      "Genre: Finance || Avg. Number of User Ratings: 31467.944444444445\n",
      "\n",
      "Genre: Medical || Avg. Number of User Ratings: 612.0\n",
      "\n",
      "Genre: Weather || Avg. Number of User Ratings: 52279.892857142855\n",
      "\n",
      "Genre: Photo & Video || Avg. Number of User Ratings: 28441.54375\n",
      "\n",
      "Genre: Education || Avg. Number of User Ratings: 7003.983050847458\n",
      "\n",
      "Genre: Food & Drink || Avg. Number of User Ratings: 33333.92307692308\n",
      "\n",
      "Genre: Lifestyle || Avg. Number of User Ratings: 16485.764705882353\n",
      "\n"
     ]
    }
   ],
   "source": [
    "def avg_ratings(table=freq_table(apple_data, -5), data_set=apple_data):\n",
    "    \n",
    "    for genre in table:\n",
    "        total = 0\n",
    "        len_genre = 0\n",
    "        \n",
    "        for data in data_set:\n",
    "            genre_app = data[-5]\n",
    "            \n",
    "            if genre_app == genre:\n",
    "                total += float(data[5])\n",
    "                len_genre += 1\n",
    "                \n",
    "        avg_num_ratings = total / len_genre\n",
    "        \n",
    "        print(\"Genre: \" + genre + \" || \" +\n",
    "              \"Avg. Number of User Ratings: \" + str(avg_num_ratings))\n",
    "        print()\n",
    "\n",
    "avg_ratings()"
   ]
  },
  {
   "cell_type": "markdown",
   "metadata": {},
   "source": [
    "Social Networking apps seem to be the most popular on the Apple Store.\n",
    "\n",
    "Genre: Social Networking || Avg. Number of User Ratings: \n",
    "71,548.34905660378"
   ]
  },
  {
   "cell_type": "markdown",
   "metadata": {},
   "source": [
    "Fortunately, the google dataset does contain information for the number of installs. Unfortunately, though, it does not contain exact amounts. The information resembles the likes of \"100,000+\" or \"1,000,000+\". We can still sdjust to this by changing \"100,000+\" to \"100,000\" and getting the average number of installs, but the information will be slightly innacurate."
   ]
  },
  {
   "cell_type": "code",
   "execution_count": 26,
   "metadata": {
    "collapsed": false
   },
   "outputs": [
    {
     "name": "stdout",
     "output_type": "stream",
     "text": [
      "Category: LIFESTYLE || Number of Installs: 1437816.2687861272\n",
      "\n",
      "Category: DATING || Number of Installs: 854028.8303030303\n",
      "\n",
      "Category: PARENTING || Number of Installs: 542603.6206896552\n",
      "\n",
      "Category: HEALTH_AND_FITNESS || Number of Installs: 4188821.9853479853\n",
      "\n",
      "Category: COMICS || Number of Installs: 817657.2727272727\n",
      "\n",
      "Category: WEATHER || Number of Installs: 5074486.197183099\n",
      "\n",
      "Category: HOUSE_AND_HOME || Number of Installs: 1331540.5616438356\n",
      "\n",
      "Category: SHOPPING || Number of Installs: 7036877.311557789\n",
      "\n",
      "Category: BOOKS_AND_REFERENCE || Number of Installs: 8767811.894736841\n",
      "\n",
      "Category: BEAUTY || Number of Installs: 513151.88679245283\n",
      "\n",
      "Category: EVENTS || Number of Installs: 253542.22222222222\n",
      "\n",
      "Category: EDUCATION || Number of Installs: 1833495.145631068\n",
      "\n",
      "Category: PHOTOGRAPHY || Number of Installs: 17840110.40229885\n",
      "\n",
      "Category: FAMILY || Number of Installs: 3695641.8198090694\n",
      "\n",
      "Category: VIDEO_PLAYERS || Number of Installs: 24727872.452830188\n",
      "\n",
      "Category: FOOD_AND_DRINK || Number of Installs: 1924897.7363636363\n",
      "\n",
      "Category: MEDICAL || Number of Installs: 120550.61980830671\n",
      "\n",
      "Category: TOOLS || Number of Installs: 10801391.298666667\n",
      "\n",
      "Category: SOCIAL || Number of Installs: 23253652.127118643\n",
      "\n",
      "Category: COMMUNICATION || Number of Installs: 38456119.167247385\n",
      "\n",
      "Category: ENTERTAINMENT || Number of Installs: 11640705.88235294\n",
      "\n",
      "Category: SPORTS || Number of Installs: 3638640.1428571427\n",
      "\n",
      "Category: GAME || Number of Installs: 15588015.603248259\n",
      "\n",
      "Category: BUSINESS || Number of Installs: 1712290.1474201474\n",
      "\n",
      "Category: MAPS_AND_NAVIGATION || Number of Installs: 4056941.7741935486\n",
      "\n",
      "Category: NEWS_AND_MAGAZINES || Number of Installs: 9549178.467741935\n",
      "\n",
      "Category: LIBRARIES_AND_DEMO || Number of Installs: 638503.734939759\n",
      "\n",
      "Category: TRAVEL_AND_LOCAL || Number of Installs: 13984077.710144928\n",
      "\n",
      "Category: FINANCE || Number of Installs: 1387692.475609756\n",
      "\n",
      "Category: ART_AND_DESIGN || Number of Installs: 1986335.0877192982\n",
      "\n",
      "Category: PRODUCTIVITY || Number of Installs: 16787331.344927534\n",
      "\n",
      "Category: AUTO_AND_VEHICLES || Number of Installs: 647317.8170731707\n",
      "\n",
      "Category: PERSONALIZATION || Number of Installs: 5201482.6122448975\n",
      "\n"
     ]
    }
   ],
   "source": [
    "def avg_installs(table=freq_table(google_data, 1), data_set=google_data):\n",
    "    \n",
    "    for category in table:\n",
    "        total = 0\n",
    "        len_category = 0\n",
    "        \n",
    "        for data in data_set:\n",
    "            category_app = data[1]\n",
    "            \n",
    "            if category_app == category:\n",
    "                installs = data[5].replace(\"+\", \"\").replace(\",\", \"\")\n",
    "                total += float(installs)\n",
    "                len_category += 1\n",
    "                \n",
    "        avg_num_installs = total / len_category\n",
    "        \n",
    "        print(\"Category: \" + category + \" || \" +\n",
    "              \"Number of Installs: \" + str(avg_num_installs))\n",
    "        print()\n",
    "\n",
    "avg_installs()"
   ]
  },
  {
   "cell_type": "markdown",
   "metadata": {},
   "source": [
    "Communication and Social apps seem to be the most popular on the Google Store.\n",
    "\n",
    "Category: SOCIAL || Number of Installs: 23,253,652.127118643\n",
    "Category: COMMUNICATION || Number of Installs: 38,456,119.167247385"
   ]
  },
  {
   "cell_type": "markdown",
   "metadata": {},
   "source": [
    "The most attractive app to build would have to be in the category or genre of social media. These types get the most amount of installs and user ratings and is popular on both the google and apple store."
   ]
  }
 ],
 "metadata": {
  "kernelspec": {
   "display_name": "Python 3",
   "language": "python",
   "name": "python3"
  },
  "language_info": {
   "codemirror_mode": {
    "name": "ipython",
    "version": 3
   },
   "file_extension": ".py",
   "mimetype": "text/x-python",
   "name": "python",
   "nbconvert_exporter": "python",
   "pygments_lexer": "ipython3",
   "version": "3.4.3"
  }
 },
 "nbformat": 4,
 "nbformat_minor": 2
}
